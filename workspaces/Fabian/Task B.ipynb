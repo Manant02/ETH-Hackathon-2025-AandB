{
 "cells": [
  {
   "cell_type": "code",
   "execution_count": 4,
   "metadata": {},
   "outputs": [],
   "source": [
    "import pickle\n",
    "import numpy as np\n",
    "import matplotlib.pyplot as plt\n",
    "from pathlib import Path\n",
    "import jax.numpy as jnp\n",
    "import dynamiqs as dq\n",
    "\n",
    "with open(\"../../data/synthetic/quantum_state_1.pickle\", 'rb') as f:\n",
    "    state = pickle.load(f)\n",
    "wigner = dq.wigner(state, xmax=6, ymax=6)\n",
    "plt.contourf(wigner[0], wigner[1],wigner[2], levels=100, cmap=\"seismic\", vmin=-2/np.pi, vmax=2/np.pi)\n",
    "plt.colorbar()"
   ]
  }
 ],
 "metadata": {
  "kernelspec": {
   "display_name": "qutip",
   "language": "python",
   "name": "python3"
  },
  "language_info": {
   "codemirror_mode": {
    "name": "ipython",
    "version": 3
   },
   "file_extension": ".py",
   "mimetype": "text/x-python",
   "name": "python",
   "nbconvert_exporter": "python",
   "pygments_lexer": "ipython3",
   "version": "3.12.1"
  }
 },
 "nbformat": 4,
 "nbformat_minor": 2
}
