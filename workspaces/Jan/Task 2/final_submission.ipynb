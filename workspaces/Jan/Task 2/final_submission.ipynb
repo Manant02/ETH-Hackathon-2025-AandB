{
 "cells": [
  {
   "cell_type": "code",
   "execution_count": 1,
   "metadata": {},
   "outputs": [],
   "source": [
    "import pickle\n",
    "import numpy as np\n",
    "import matplotlib.pyplot as plt\n",
    "import cvxpy as cp\n",
    "from pathlib import Path\n",
    "from dynamiqs import wigner\n",
    "import jax.numpy as jnp\n",
    "import dynamiqs as dq"
   ]
  },
  {
   "cell_type": "code",
   "execution_count": 2,
   "metadata": {},
   "outputs": [],
   "source": [
    "def load_and_visualize_states(file_path):\n",
    "    \"\"\"\n",
    "    Loads a Quantum-State-Pickle file and visualize the corresponding Wigner function\n",
    "    \"\"\"\n",
    "    data_path = Path(file_path)\n",
    "    \n",
    "    if not data_path.exists():\n",
    "        print(f\"Verzeichnis {file_path} existiert nicht!\")\n",
    "        return\n",
    "    \n",
    "    try:\n",
    "        print(f\"\\nLade Datei: {file_path}\")\n",
    "        with open(file_path, 'rb') as f:\n",
    "            state = pickle.load(f)\n",
    "            wigner_function = wigner(state)\n",
    "            plt.contourf(wigner_function[0], wigner_function[1], wigner_function[2],levels=100, cmap='seismic', vmax=np.pi/2, vmin=-np.pi/2)\n",
    "            plt.colorbar()\n",
    "            plt.tight_layout()\n",
    "            plt.show()\n",
    "        \n",
    "    except Exception as e:\n",
    "        print(f\"Fehler beim Verarbeiten von {file_path}: {e}\")"
   ]
  },
  {
   "cell_type": "code",
   "execution_count": 3,
   "metadata": {},
   "outputs": [],
   "source": [
    "def load_density_matrix(file_path):\n",
    "    \"\"\"\n",
    "    Lädt alle Quantum-State Pickle-Dateien aus dem angegebenen Verzeichnis und visualisiert sie.\n",
    "    \"\"\"\n",
    "    data_path = Path(file_path)\n",
    "    \n",
    "    if not data_path.exists():\n",
    "        print(f\"Verzeichnis {file_path} existiert nicht!\")\n",
    "        return\n",
    "    \n",
    "    try:\n",
    "        print(f\"Lade Datei: {file_path}\")\n",
    "        with open(file_path, 'rb') as f:\n",
    "            return pickle.load(f)\n",
    "    except Exception as e:\n",
    "        print(f\"Fehler beim Verarbeiten von {file_path}: {e}\")"
   ]
  },
  {
   "cell_type": "code",
   "execution_count": 4,
   "metadata": {},
   "outputs": [],
   "source": [
    "def load_wigner_function(file_path):\n",
    "    \"\"\"\n",
    "    Lädt alle Quantum-State Pickle-Dateien aus dem angegebenen Verzeichnis und visualisiert sie.\n",
    "    \"\"\"\n",
    "    data_path = Path(file_path)\n",
    "    \n",
    "    if not data_path.exists():\n",
    "        print(f\"Verzeichnis {file_path} existiert nicht!\")\n",
    "        return\n",
    "    \n",
    "    try:\n",
    "        print(f\"Lade Datei: {file_path}\")\n",
    "        with open(file_path, 'rb') as f:\n",
    "            (x_grid, p_grid, w_values) = wigner(pickle.load(f))\n",
    "            # Ersetze NaN-Werte durch 0\n",
    "            w_values_clean = np.nan_to_num(w_values, nan=0.0)\n",
    "            return (x_grid, p_grid, w_values_clean)\n",
    "    except Exception as e:\n",
    "        print(f\"Fehler beim Verarbeiten von {file_path}: {e}\")"
   ]
  },
  {
   "cell_type": "code",
   "execution_count": 5,
   "metadata": {},
   "outputs": [],
   "source": [
    "def uniform_displacement_sampling(x_grid, p_grid, w_values, n_samples=200, threshold_factor=0.2):\n",
    "    \"\"\"\n",
    "    Performs uniform sampling of the Wigner function.\n",
    "    \n",
    "    Parameters:\n",
    "    -----------\n",
    "    wigner_fct : tuple\n",
    "        The Wigner function as a tuple (x_grid, p_grid, w_values)\n",
    "    n_samples : int\n",
    "        Number of points to sample\n",
    "    threshold_factor : float\n",
    "        Factor for threshold values\n",
    "        \n",
    "    Returns:\n",
    "    --------\n",
    "    alpha_k : numpy.ndarray\n",
    "        Complex values of the sampled points\n",
    "    alpha_k_x : numpy.ndarray\n",
    "        x-components of the sampled points\n",
    "    alpha_k_p : numpy.ndarray\n",
    "        p-components of the sampled points\n",
    "    \"\"\"\n",
    "    # Find the maximum of the Wigner function\n",
    "    max_value = np.max(np.abs(w_values))\n",
    "    print(max_value)\n",
    "    max_pos = np.where(np.abs(w_values) == max_value)\n",
    "    print(max_pos)\n",
    "\n",
    "    x_max = x_grid[max_pos[0][0]] \n",
    "    p_max = p_grid[max_pos[1][0]]\n",
    "    print(f\"Maximum der Wigner-Funktion: {max_value}\")\n",
    "    print(f\"Position des Maximums: x = {x_max}, p = {p_max}\")\n",
    "\n",
    "    # Shift the grid\n",
    "    x_grid = x_grid - x_max\n",
    "    p_grid = p_grid - p_max\n",
    "    wigner_fct_shifted = (x_grid, p_grid, w_values)\n",
    "\n",
    "    # Find the minimum of the Wigner function\n",
    "    min_value = np.min(w_values)\n",
    "    min_pos = np.where(w_values == min_value)  \n",
    "    x_min = x_grid[min_pos[0][0]] \n",
    "    p_min = p_grid[min_pos[1][0]]\n",
    "    print(f\"Minimum der Wigner-Funktion: {min_value}\")\n",
    "    print(f\"Position des Minimums: x = {x_min}, p = {p_min}\")\n",
    "\n",
    "    # Define thresholds\n",
    "    threshold_max = threshold_factor * max_value  \n",
    "    threshold_min = threshold_factor * min_value - 0.1\n",
    "\n",
    "    # Create mask for sampling\n",
    "    mask = (wigner_fct_shifted[2] >= threshold_max) | (wigner_fct_shifted[2] <= threshold_min)\n",
    "    rows, cols = np.where(mask)\n",
    "    x_sampled = x_grid[rows]\n",
    "    p_sampled = p_grid[cols]\n",
    "    w_sampled = wigner_fct_shifted[2][mask]\n",
    "\n",
    "    # Uniformes Sampling\n",
    "    indices = np.random.choice(len(x_sampled), n_samples, replace=False)\n",
    "    alpha_k_x = x_sampled[indices]\n",
    "    alpha_k_p = p_sampled[indices]\n",
    "\n",
    "    print(f\"Number of points sampled: {len(alpha_k_x)}\")\n",
    "    \n",
    "    alpha_k = [(x, p) for x, p in zip(alpha_k_x, alpha_k_p)]\n",
    "    return alpha_k, x_max, p_max"
   ]
  },
  {
   "cell_type": "code",
   "execution_count": 6,
   "metadata": {},
   "outputs": [],
   "source": [
    "def get_measurement_probabilities(xvec, yvec, wigner, alpha_ks):\n",
    "    w_ks = []\n",
    "    for alpha_k in alpha_ks:\n",
    "        xi = jnp.abs(xvec - alpha_k[0]).argmin()\n",
    "        yi = jnp.abs(yvec - alpha_k[1]).argmin()\n",
    "        w_ks += [1/2 * (1 + jnp.pi/2 * wigner[xi, yi])]\n",
    "    return w_ks"
   ]
  },
  {
   "cell_type": "code",
   "execution_count": 7,
   "metadata": {},
   "outputs": [],
   "source": [
    "def get_measurement_operators(N, alpha_ks):\n",
    "    Eks = []\n",
    "    for alpha_k in alpha_ks:\n",
    "        alpha_z = alpha_k[0] + 1j* alpha_k[1]\n",
    "        a=dq.destroy(N)\n",
    "        D = lambda alph: dq.expm(alph*a.dag() - alph.conjugate()*a)\n",
    "        P = dq.expm(1j*jnp.pi*a.dag()@a)\n",
    "        E = 1/2 * (dq.eye(N) + D(alpha_z) @ P @ D(alpha_z).dag())\n",
    "        Eks += [E]\n",
    "    return Eks"
   ]
  },
  {
   "cell_type": "code",
   "execution_count": 8,
   "metadata": {},
   "outputs": [],
   "source": [
    "def fit_density_matrix(w_k, E_alpha_k, N):\n",
    "    \"\"\"\n",
    "    Fits a density matrix using convex optimization.\n",
    "    \n",
    "    Parameters:\n",
    "    -----------\n",
    "    w_k : array-like\n",
    "        List of observed measurement values\n",
    "    E_alpha_k : array-like\n",
    "        Measurement operators\n",
    "    N : int\n",
    "        Dimension of the density matrix\n",
    "        \n",
    "    Returns:\n",
    "    --------\n",
    "    rho_optimal : numpy.ndarray\n",
    "        The optimized density matrix\n",
    "    \"\"\"\n",
    "    K = len(w_k)\n",
    "    \n",
    "    # Define the variable for the density matrix\n",
    "    rho = cp.Variable((N, N), symmetric=True)\n",
    "    \n",
    "    # Define the objective function using least-squares error\n",
    "    objective = cp.Minimize(cp.sum_squares(cp.hstack(cp.trace(E_alpha_k[k] @ rho) - w_k[k] for k in range(K))))\n",
    "\n",
    "    # Define the two constraints for the density matrix\n",
    "    constraints = [rho >> 0, cp.trace(rho) == 1]\n",
    "    \n",
    "    # Formulate and solve the problem\n",
    "    problem = cp.Problem(objective, constraints)\n",
    "    problem.solve()\n",
    "    \n",
    "    return rho.value"
   ]
  },
  {
   "cell_type": "code",
   "execution_count": 9,
   "metadata": {},
   "outputs": [],
   "source": [
    "# State translation\n",
    "def state_translation(state_dm, dim_new, x_max, p_max):\n",
    "    dim_old = state_dm.shape[0]\n",
    "    rho = dq.to_numpy(state_dm)\n",
    "\n",
    "    rho_new = np.zeros((dim_new, dim_new), dtype=complex)\n",
    "    rho_new[:dim_old, :dim_old] = rho\n",
    "\n",
    "    state = dq.to_qutip(rho_new)\n",
    "    displ_vector = -x_max - p_max * 1j\n",
    "    displace_op = dq.displace(dim_new, displ_vector)\n",
    "\n",
    "    state_displaced = displace_op @ state @ displace_op.dag()\n",
    "    return state_displaced"
   ]
  },
  {
   "cell_type": "code",
   "execution_count": 10,
   "metadata": {},
   "outputs": [],
   "source": [
    "file_path = \"../../../data/synthetic/quantum_state_4.pickle\""
   ]
  },
  {
   "cell_type": "code",
   "execution_count": 11,
   "metadata": {},
   "outputs": [],
   "source": [
    "N = 20\n",
    "N_samples = 200\n",
    "threshold_factor = 0.3\n",
    "dim_new = 50"
   ]
  },
  {
   "cell_type": "code",
   "execution_count": 12,
   "metadata": {},
   "outputs": [
    {
     "name": "stdout",
     "output_type": "stream",
     "text": [
      "Lade Datei: ../../../data/synthetic/quantum_state_7.pickle\n",
      "0.6366199\n",
      "(array([100], dtype=int64), array([100], dtype=int64))\n",
      "Maximum der Wigner-Funktion: 0.6366199254989624\n",
      "Position des Maximums: x = 0.0, p = 0.0\n",
      "Minimum der Wigner-Funktion: -0.47487711906433105\n",
      "Position des Minimums: x = 0.0, p = 0.6599997878074646\n",
      "Number of points sampled: 200\n"
     ]
    },
    {
     "name": "stderr",
     "output_type": "stream",
     "text": [
      "C:\\Users\\jakob\\AppData\\Local\\Packages\\PythonSoftwareFoundation.Python.3.11_qbz5n2kfra8p0\\LocalCache\\local-packages\\Python311\\site-packages\\equinox\\_module.py:1096: UserWarning: A `SparseDIAQArray` has been converted to a `DenseQArray` while computing its matrix exponential.\n",
      "  return self.__func__(self.__self__, *args, **kwargs)\n",
      "C:\\Users\\jakob\\AppData\\Local\\Packages\\PythonSoftwareFoundation.Python.3.11_qbz5n2kfra8p0\\LocalCache\\local-packages\\Python311\\site-packages\\equinox\\_module.py:1096: UserWarning: A `SparseDIAQArray` has been converted to a `DenseQArray` while computing its matrix exponential.\n",
      "  return self.__func__(self.__self__, *args, **kwargs)\n",
      "C:\\Users\\jakob\\AppData\\Local\\Packages\\PythonSoftwareFoundation.Python.3.11_qbz5n2kfra8p0\\LocalCache\\local-packages\\Python311\\site-packages\\equinox\\_module.py:1096: UserWarning: A `SparseDIAQArray` has been converted to a `DenseQArray` while computing its matrix exponential.\n",
      "  return self.__func__(self.__self__, *args, **kwargs)\n",
      "C:\\Users\\jakob\\AppData\\Local\\Temp\\ipykernel_7508\\399408496.py:8: UserWarning: A sparse qarray has been converted to dense layout due to element-wise addition with a dense qarray.\n",
      "  E = 1/2 * (dq.eye(N) + D(alpha_z) @ P @ D(alpha_z).dag())\n",
      "C:\\Users\\jakob\\AppData\\Local\\Packages\\PythonSoftwareFoundation.Python.3.11_qbz5n2kfra8p0\\LocalCache\\local-packages\\Python311\\site-packages\\cvxpy\\problems\\problem.py:158: UserWarning: Objective contains too many subexpressions. Consider vectorizing your CVXPY code to speed up compilation.\n",
      "  warnings.warn(\"Objective contains too many subexpressions. \"\n",
      "C:\\Users\\jakob\\AppData\\Local\\Packages\\PythonSoftwareFoundation.Python.3.11_qbz5n2kfra8p0\\LocalCache\\local-packages\\Python311\\site-packages\\cvxpy\\problems\\problem.py:164: UserWarning: Constraint #0 contains too many subexpressions. Consider vectorizing your CVXPY code to speed up compilation.\n",
      "  warnings.warn(f\"Constraint #{i} contains too many subexpressions. \"\n"
     ]
    }
   ],
   "source": [
    "x_grid, p_grid, w_values = load_wigner_function(file_path) \n",
    "alpha_ks, x_max, p_max = uniform_displacement_sampling(x_grid, p_grid, w_values, N_samples, threshold_factor)\n",
    "wks = get_measurement_probabilities(x_grid, p_grid, w_values, alpha_ks)\n",
    "Eks = get_measurement_operators(N, alpha_ks)\n",
    "rho_optimal = fit_density_matrix(wks, Eks, N)"
   ]
  },
  {
   "cell_type": "code",
   "execution_count": 14,
   "metadata": {},
   "outputs": [
    {
     "data": {
      "text/plain": [
       "<matplotlib.colorbar.Colorbar at 0x1aeb9eb7710>"
      ]
     },
     "execution_count": 14,
     "metadata": {},
     "output_type": "execute_result"
    },
    {
     "data": {
      "image/png": "[encoded data removed]",
      "text/plain": [
       "<Figure size 640x480 with 2 Axes>"
      ]
     },
     "metadata": {},
     "output_type": "display_data"
    }
   ],
   "source": [
    "corrected_rho_optimal = state_translation(rho_optimal, dim_new, x_max, p_max)\n",
    "comp_state = dq.to_qutip(corrected_rho_optimal)\n",
    "xvec, yvec, wigner = dq.wigner(comp_state)\n",
    "plt.contourf(xvec, yvec, wigner, levels=100, cmap='seismic', vmax=np.pi/2, vmin=-np.pi/2)\n",
    "plt.colorbar()"
   ]
  },
  {
   "cell_type": "code",
   "execution_count": 21,
   "metadata": {},
   "outputs": [
    {
     "name": "stdout",
     "output_type": "stream",
     "text": [
      "Lade Datei: ../../../data/synthetic/quantum_state_7.pickle\n",
      "(0.99999994+0j)\n"
     ]
    }
   ],
   "source": [
    "true_state = load_density_matrix(file_path)\n",
    "print(dq.trace(comp_state))\n",
    "fidelity = dq.fidelity(true_state, comp_state)"
   ]
  },
  {
   "cell_type": "code",
   "execution_count": 16,
   "metadata": {},
   "outputs": [
    {
     "name": "stdout",
     "output_type": "stream",
     "text": [
      "1.0002797\n"
     ]
    }
   ],
   "source": [
    "print(fidelity)"
   ]
  },
  {
   "cell_type": "code",
   "execution_count": null,
   "metadata": {},
   "outputs": [],
   "source": []
  }
 ],
 "metadata": {
  "kernelspec": {
   "display_name": "Python 3",
   "language": "python",
   "name": "python3"
  },
  "language_info": {
   "codemirror_mode": {
    "name": "ipython",
    "version": 3
   },
   "file_extension": ".py",
   "mimetype": "text/x-python",
   "name": "python",
   "nbconvert_exporter": "python",
   "pygments_lexer": "ipython3",
   "version": "3.11.9"
  }
 },
 "nbformat": 4,
 "nbformat_minor": 2
}
